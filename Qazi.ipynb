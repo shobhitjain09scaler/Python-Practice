{
 "cells": [
  {
   "cell_type": "code",
   "execution_count": 3,
   "id": "c3913406",
   "metadata": {},
   "outputs": [],
   "source": [
    "#this is the way to write comments"
   ]
  },
  {
   "cell_type": "code",
   "execution_count": 5,
   "id": "4062a874",
   "metadata": {},
   "outputs": [
    {
     "name": "stdout",
     "output_type": "stream",
     "text": [
      "Hello World\n"
     ]
    }
   ],
   "source": [
    "print('Hello World')"
   ]
  },
  {
   "cell_type": "code",
   "execution_count": 7,
   "id": "d73900ad",
   "metadata": {},
   "outputs": [],
   "source": [
    "#this is how the variables are declared - variables cannot be declared starting with any number and can only start with a letter\n",
    "name = 'Shobhit Jain'"
   ]
  },
  {
   "cell_type": "code",
   "execution_count": 9,
   "id": "d56324b0",
   "metadata": {},
   "outputs": [
    {
     "name": "stdout",
     "output_type": "stream",
     "text": [
      "Shobhit Jain\n"
     ]
    }
   ],
   "source": [
    "print(name)"
   ]
  },
  {
   "cell_type": "code",
   "execution_count": 16,
   "id": "778385ba",
   "metadata": {},
   "outputs": [
    {
     "name": "stdout",
     "output_type": "stream",
     "text": [
      "20\n"
     ]
    }
   ],
   "source": [
    "#we can save multiple varibles by separating them by a comma (',')\n",
    "length, breadth, height = 20, 30, 40\n",
    "print(length)"
   ]
  },
  {
   "cell_type": "code",
   "execution_count": 25,
   "id": "2dd87496",
   "metadata": {},
   "outputs": [
    {
     "name": "stdout",
     "output_type": "stream",
     "text": [
      "40\n"
     ]
    }
   ],
   "source": [
    "print(height)"
   ]
  },
  {
   "cell_type": "code",
   "execution_count": 26,
   "id": "ee2fd17f",
   "metadata": {},
   "outputs": [
    {
     "name": "stdout",
     "output_type": "stream",
     "text": [
      "Please enter your name =\n"
     ]
    }
   ],
   "source": [
    "your_name = input(\"Please enter your name =\")"
   ]
  },
  {
   "cell_type": "code",
   "execution_count": 1,
   "id": "543b1fc0",
   "metadata": {},
   "outputs": [
    {
     "ename": "NameError",
     "evalue": "name 'your_name' is not defined",
     "output_type": "error",
     "traceback": [
      "\u001b[1;31m---------------------------------------------------------------------------\u001b[0m",
      "\u001b[1;31mNameError\u001b[0m                                 Traceback (most recent call last)",
      "\u001b[1;32m<ipython-input-1-291503ebde31>\u001b[0m in \u001b[0;36m<module>\u001b[1;34m\u001b[0m\n\u001b[1;32m----> 1\u001b[1;33m \u001b[0mprint\u001b[0m\u001b[1;33m(\u001b[0m\u001b[0myour_name\u001b[0m\u001b[1;33m)\u001b[0m\u001b[1;33m\u001b[0m\u001b[1;33m\u001b[0m\u001b[0m\n\u001b[0m",
      "\u001b[1;31mNameError\u001b[0m: name 'your_name' is not defined"
     ]
    }
   ],
   "source": [
    "print(your_name)"
   ]
  },
  {
   "cell_type": "code",
   "execution_count": 31,
   "id": "f6e96a44",
   "metadata": {},
   "outputs": [
    {
     "name": "stdout",
     "output_type": "stream",
     "text": [
      "Volume of the cuboid 24000\n"
     ]
    }
   ],
   "source": [
    "print(\"Volume of the cuboid \" + str(length*breadth*height))\n",
    "\n",
    "#here we learned how to concatenate two strings\n",
    "#here we also learned how we cannot concatenate string with an integer and therefore what i did is that i converted the integer into string"
   ]
  },
  {
   "cell_type": "code",
   "execution_count": null,
   "id": "314049e4",
   "metadata": {},
   "outputs": [],
   "source": [
    "num1 = input(\"Please enter a number = \")\n",
    "num2 = input(\"Please enter another number = \")\n",
    "print(num1, num2)"
   ]
  },
  {
   "cell_type": "code",
   "execution_count": 36,
   "id": "ea7ec719",
   "metadata": {},
   "outputs": [
    {
     "name": "stdout",
     "output_type": "stream",
     "text": [
      "Please enter your first number = 1\n",
      "Please enter your second number = 2\n",
      "3\n"
     ]
    }
   ],
   "source": [
    "#always remember that here the python is considering the numbers here as strings and not integers and therefore no mathematicsal functions will work on them\n",
    "#therefore we need to convert them into integers\n",
    "#Method 1: to convert any variable into int\n",
    "\n",
    "num3 = int(input(\"Please enter your first number = \"))\n",
    "num4 = int(input(\"Please enter your second number = \"))\n",
    "\n",
    "print(num3 + num4)"
   ]
  },
  {
   "cell_type": "code",
   "execution_count": null,
   "id": "eee66126",
   "metadata": {},
   "outputs": [],
   "source": [
    "#Method 2: to convert the string into int\n",
    "print(int(num1) + int(num2))"
   ]
  },
  {
   "cell_type": "code",
   "execution_count": null,
   "id": "19a9f470",
   "metadata": {},
   "outputs": [],
   "source": [
    "#TIP CALCULATOR APPLICATION"
   ]
  },
  {
   "cell_type": "code",
   "execution_count": 8,
   "id": "f8e16c84",
   "metadata": {},
   "outputs": [
    {
     "name": "stdout",
     "output_type": "stream",
     "text": [
      "Please enter your bill amount = 190\n",
      "Enter your tip percentage % = 17\n",
      "$32.300000000000004\n"
     ]
    }
   ],
   "source": [
    "food_amount = int(input(\"Please enter your bill amount = \"))\n",
    "tip_percent = int(input(\"Enter your tip percentage % = \")) / 100\n",
    "tip_amount = food_amount*tip_percent\n",
    "print(\"$\" + str(tip_amount))"
   ]
  },
  {
   "cell_type": "code",
   "execution_count": 16,
   "id": "e30029b1",
   "metadata": {},
   "outputs": [
    {
     "name": "stdout",
     "output_type": "stream",
     "text": [
      "Tip Amount = 32.300000000000004\n",
      "\n",
      "\n"
     ]
    }
   ],
   "source": [
    "#string formatting\n",
    "print(f'Tip Amount = {tip_amount}')\n",
    "print(\"\\n\")"
   ]
  },
  {
   "cell_type": "code",
   "execution_count": 4,
   "id": "c8249cf4",
   "metadata": {},
   "outputs": [
    {
     "name": "stdout",
     "output_type": "stream",
     "text": [
      "What is the weather condition today? (Sunny or Rainy or Cloudy) = Thunderstorm\n",
      "Please stay at home\n"
     ]
    }
   ],
   "source": [
    "#BOOLEAN - boolean can only be TRUE or FALSE\n",
    "#WEATHER APPLICATION\n",
    "\n",
    "weather_condition = input(\"What is the weather condition today? (Sunny or Rainy or Cloudy) = \")\n",
    "if weather_condition == \"Rainy\":\n",
    "    print(\"Please carry your umbrella.\")\n",
    "elif weather_condition == \"Cloudy\":\n",
    "    print(\"Please wear some warm clothes\")\n",
    "elif weather_condition == \"Thunderstorm\":\n",
    "    print(\"Please stay at home\")\n",
    "else:\n",
    "    print(\"Please carry your sunglasses\")"
   ]
  },
  {
   "cell_type": "code",
   "execution_count": 4,
   "id": "6e9542fc",
   "metadata": {},
   "outputs": [
    {
     "name": "stdout",
     "output_type": "stream",
     "text": [
      "Please enter the marks obtained = 10\n",
      "You could not clear the round. You need to work hard!\n"
     ]
    }
   ],
   "source": [
    "#Grade Generator Application\n",
    "score = int(input(\"Please enter the marks obtained = \"))\n",
    "\n",
    "if score >= 95:\n",
    "    print(\"You received A+ Grade\")\n",
    "elif score >= 90:\n",
    "    print(\"You received A Grade\")\n",
    "elif score >= 85:\n",
    "    print(\"You received B+ Grade\")\n",
    "elif score >= 80:\n",
    "    print(\"You received B Grade\")\n",
    "elif score >= 75:\n",
    "    print(\"You received C+ Grade\")\n",
    "elif score >= 70:\n",
    "    print(\"You received C Grade\")\n",
    "else: \n",
    "    print(\"You could not clear the round. You need to work hard!\")"
   ]
  },
  {
   "cell_type": "code",
   "execution_count": 2,
   "id": "ec7f6adc",
   "metadata": {},
   "outputs": [
    {
     "data": {
      "text/plain": [
       "bool"
      ]
     },
     "execution_count": 2,
     "metadata": {},
     "output_type": "execute_result"
    }
   ],
   "source": [
    "type(False)"
   ]
  },
  {
   "cell_type": "code",
   "execution_count": 8,
   "id": "c8a2d01e",
   "metadata": {},
   "outputs": [
    {
     "name": "stdout",
     "output_type": "stream",
     "text": [
      "Fail\n"
     ]
    }
   ],
   "source": [
    "#pythonic way of writing the same code\n",
    "score1 = 55\n",
    "if 60 <= score1 <= 100:\n",
    "    print(\"Passing Grade\")\n",
    "else:\n",
    "    print(\"Fail\")"
   ]
  },
  {
   "cell_type": "code",
   "execution_count": 10,
   "id": "3f68fc91",
   "metadata": {},
   "outputs": [
    {
     "name": "stdout",
     "output_type": "stream",
     "text": [
      "This test is done\n"
     ]
    }
   ],
   "source": [
    "#same code with 'and' in the if condition\n",
    "score2= 87\n",
    "if score2 <= 60 and score2 >=50:\n",
    "    print(\"You passed by margin\")\n",
    "else:\n",
    "    print(\"This test is done\")"
   ]
  },
  {
   "cell_type": "code",
   "execution_count": 12,
   "id": "41e19f8a",
   "metadata": {},
   "outputs": [
    {
     "name": "stdout",
     "output_type": "stream",
     "text": [
      "You have passed the test\n"
     ]
    }
   ],
   "source": [
    "#same code with or in the if condition\n",
    "score3 = 66\n",
    "if score >= 60 or score <=100:\n",
    "    print(\"You have passed the test\")\n",
    "else:\n",
    "    print(\"something is wrong\")"
   ]
  },
  {
   "cell_type": "code",
   "execution_count": 14,
   "id": "607f5537",
   "metadata": {},
   "outputs": [
    {
     "name": "stdout",
     "output_type": "stream",
     "text": [
      "Shobhit Jain\n"
     ]
    }
   ],
   "source": [
    "#FUNCTIONS\n",
    "\n",
    "#functions allow you to run big chunk of codes easily with just one call\n",
    "\n",
    "#this is how a function is defined\n",
    "\n",
    "def say_my_name():\n",
    "    print(\"Shobhit Jain\")\n",
    "    \n",
    "#this is how a defined function is called\n",
    "say_my_name()"
   ]
  },
  {
   "cell_type": "code",
   "execution_count": 17,
   "id": "29fc2d35",
   "metadata": {},
   "outputs": [
    {
     "name": "stdout",
     "output_type": "stream",
     "text": [
      "Shobhit\n"
     ]
    }
   ],
   "source": [
    "#adding an argument in the function\n",
    "\n",
    "#if we want our function to be more dynamic, we will add an argument in the function\n",
    "\n",
    "def say_my_name1(name):\n",
    "    print(name)\n",
    "    \n",
    "#now lets call the function and add a name in the argument so that it will take that value in the whole function\n",
    "say_my_name1(\"Shobhit\")"
   ]
  },
  {
   "cell_type": "code",
   "execution_count": 23,
   "id": "3b595fa9",
   "metadata": {},
   "outputs": [
    {
     "name": "stdout",
     "output_type": "stream",
     "text": [
      "Hey Shobhit !\n"
     ]
    }
   ],
   "source": [
    "#MULTIPLE ARGUMENTS IN A FUNCTION\n",
    "\n",
    "def greet(greeting,name):\n",
    "    print(f'{greeting}{name} !')\n",
    "    \n",
    "greet(\"Hey \", \"Shobhit\")"
   ]
  },
  {
   "cell_type": "code",
   "execution_count": 27,
   "id": "4fb5d663",
   "metadata": {},
   "outputs": [
    {
     "name": "stdout",
     "output_type": "stream",
     "text": [
      "19\n"
     ]
    }
   ],
   "source": [
    "def sum(a,b):\n",
    "    return a + b\n",
    "\n",
    "'''\n",
    "here we did not use print (a+b) and instead we used return, \n",
    "because this way we can allocate the value of this function to any variable as well\n",
    "'''\n",
    "\n",
    "add = sum(4,5)\n",
    "\n",
    "print(add + 10)"
   ]
  },
  {
   "cell_type": "code",
   "execution_count": 17,
   "id": "49a80626",
   "metadata": {},
   "outputs": [
    {
     "name": "stdout",
     "output_type": "stream",
     "text": [
      "Tip Value: $250.0\n",
      "Total Bill Amount: $1250.0\n"
     ]
    }
   ],
   "source": [
    "#TIP CALCULATOR APPLICATION - using a Function\n",
    "'''\n",
    "variables were order_value and tip_percent and the answer was tip_value and total_bill_amount\n",
    "'''\n",
    "\n",
    "def tip_cal(order_value,tip_percent):\n",
    "    tip = order_value * tip_percent/100\n",
    "    bill = order_value + tip\n",
    "    print(\"Tip Value: $\" + str(tip))\n",
    "    print(\"Total Bill Amount: $\" + str(bill))\n",
    "\n",
    "tip_cal(1000,25)"
   ]
  },
  {
   "cell_type": "code",
   "execution_count": 21,
   "id": "a5cceac1",
   "metadata": {},
   "outputs": [
    {
     "name": "stdout",
     "output_type": "stream",
     "text": [
      "Please carry your umbrella.\n"
     ]
    }
   ],
   "source": [
    "#WEATHER APPLICATION\n",
    "\n",
    "def weather(weather_cond):\n",
    "    if weather_cond == \"Rainy\":\n",
    "        print(\"Please carry your umbrella.\")\n",
    "    elif weather_cond == \"Cloudy\":\n",
    "        print(\"Please wear some warm clothes\")\n",
    "    elif weather_cond == \"Thunderstorm\":\n",
    "        print(\"Please stay at home\")\n",
    "    else:\n",
    "        print(\"Please carry your sunglasses\")\n",
    "\n",
    "weather(\"Rainy\")"
   ]
  },
  {
   "cell_type": "code",
   "execution_count": 24,
   "id": "bb7a68f9",
   "metadata": {},
   "outputs": [
    {
     "name": "stdout",
     "output_type": "stream",
     "text": [
      "The largest number is: 7\n"
     ]
    }
   ],
   "source": [
    "#Print the Greater Number Application\n",
    "\n",
    "def great(a,b,c):\n",
    "    if a>b and a>c:\n",
    "        print(\"The largest number is: \" + str(a))\n",
    "    elif b>a and b>c:\n",
    "        print(\"The largest number is: \" + str(b))\n",
    "    elif c>a and c>b:\n",
    "        print(\"The largest number is: \" + str(c))\n",
    "    else:\n",
    "        print(\"The numbers are equal !\")\n",
    "    \n",
    "\n",
    "great(1,4,7)"
   ]
  },
  {
   "cell_type": "code",
   "execution_count": 2,
   "id": "3128371b",
   "metadata": {},
   "outputs": [
    {
     "data": {
      "text/plain": [
       "10"
      ]
     },
     "execution_count": 2,
     "metadata": {},
     "output_type": "execute_result"
    }
   ],
   "source": [
    "#LAMBDA FUNCTION\n",
    "\n",
    "#creating a sum function to understand what exactly is lambda functions\n",
    "def sum9(a,b):\n",
    "    sum9 = a + b\n",
    "    return sum9\n",
    "\n",
    "sum9(9,1)"
   ]
  },
  {
   "cell_type": "code",
   "execution_count": 4,
   "id": "547fafda",
   "metadata": {},
   "outputs": [
    {
     "data": {
      "text/plain": [
       "10"
      ]
     },
     "execution_count": 4,
     "metadata": {},
     "output_type": "execute_result"
    }
   ],
   "source": [
    "#Now lets create the same using lambda function: lambda arg1, arg 2: arg1 <exp> arg2\n",
    "sum8 = lambda a,b: a+b\n",
    "\n",
    "sum8(9,1)\n",
    "\n",
    "#so here we created a whole function in just one line"
   ]
  },
  {
   "cell_type": "code",
   "execution_count": 8,
   "id": "bac2a083",
   "metadata": {},
   "outputs": [
    {
     "data": {
      "text/plain": [
       "9"
      ]
     },
     "execution_count": 8,
     "metadata": {},
     "output_type": "execute_result"
    }
   ],
   "source": [
    "multiply = lambda a,b: a*b\n",
    "\n",
    "multiply(9,1)"
   ]
  },
  {
   "cell_type": "code",
   "execution_count": 14,
   "id": "d5a33700",
   "metadata": {},
   "outputs": [
    {
     "data": {
      "text/plain": [
       "'Hi Shobhit'"
      ]
     },
     "execution_count": 14,
     "metadata": {},
     "output_type": "execute_result"
    }
   ],
   "source": [
    "greet = lambda greeting, name: f\"{greeting} {name}\"\n",
    "greet(\"Hi\", \"Shobhit\")"
   ]
  },
  {
   "cell_type": "code",
   "execution_count": 26,
   "id": "d936c700",
   "metadata": {},
   "outputs": [
    {
     "name": "stdout",
     "output_type": "stream",
     "text": [
      "Code is working correctly\n"
     ]
    }
   ],
   "source": [
    "#TESTING YOUR CODE / UNIT TESTING\n",
    "\n",
    "sumproduct = lambda a,b,c : a*b+c\n",
    "\n",
    "sumproduct(2,3,4)\n",
    "#this means code is working as expected\n",
    "\n",
    "assert sumproduct(2,3,4) == 10\n",
    "print(\"Code is working correctly\")"
   ]
  },
  {
   "cell_type": "code",
   "execution_count": 23,
   "id": "8a92e01d",
   "metadata": {},
   "outputs": [
    {
     "ename": "SyntaxError",
     "evalue": "invalid syntax (<ipython-input-23-2565d3789886>, line 10)",
     "output_type": "error",
     "traceback": [
      "\u001b[1;36m  File \u001b[1;32m\"<ipython-input-23-2565d3789886>\"\u001b[1;36m, line \u001b[1;32m10\u001b[0m\n\u001b[1;33m    sumprod = lambda a,b,c = a*b-c\u001b[0m\n\u001b[1;37m                                  ^\u001b[0m\n\u001b[1;31mSyntaxError\u001b[0m\u001b[1;31m:\u001b[0m invalid syntax\n"
     ]
    }
   ],
   "source": [
    "#Lets test\n",
    "\n",
    "assert sumproduct(2,3,4) == 10\n",
    "\n",
    "#on pressing ctrl+enter this will not produce any result and therefore this means the code is working properly\n",
    "#if in case you have coded a wrong code then it will throw an error message\n",
    "\n",
    "#lets test with a wrong code\n",
    "\n",
    "sumprod = lambda a,b,c = a*b-c\n",
    "\n",
    "assert sumprod(2,3,4) == 10\n",
    "'''\n",
    "so basically what asset does is that if your assert statement is correct - means the function which you are trying to test is\n",
    "correctly coded the your code will run through your assert statement without any message but if its not correct then it would\n",
    "throw an assertion error\n",
    "'''"
   ]
  },
  {
   "cell_type": "code",
   "execution_count": 33,
   "id": "7de1fbf8",
   "metadata": {},
   "outputs": [
    {
     "name": "stdout",
     "output_type": "stream",
     "text": [
      "['Shobhit', 'Tanmay', 'Prabal', 'Lucky']\n"
     ]
    }
   ],
   "source": [
    "#LISTS (Arrays)\n",
    "\n",
    "saisushman = [\"Shobhit\", \"Tanmay\", \"Prabal\", \"Lucky\"]\n",
    "print(saisushman)\n"
   ]
  },
  {
   "cell_type": "code",
   "execution_count": 35,
   "id": "c9b61d5f",
   "metadata": {},
   "outputs": [
    {
     "name": "stdout",
     "output_type": "stream",
     "text": [
      "['Shobhit', 'Tanmay', 'Prabal', 'Lucky', 'Gaurav', 'Gaurav']\n"
     ]
    },
    {
     "data": {
      "text/plain": [
       "'\\nso APPEND method or .append will add any argument in the last position of the list\\n'"
      ]
     },
     "execution_count": 35,
     "metadata": {},
     "output_type": "execute_result"
    }
   ],
   "source": [
    "#METHODS in lists\n",
    "\n",
    "#APPEND\n",
    "saisushman.append(\"Gaurav\")\n",
    "print(saisushman)\n",
    "'''\n",
    "so APPEND method or .append will add any argument in the last position of the list (to the end)\n",
    "'''"
   ]
  },
  {
   "cell_type": "code",
   "execution_count": 38,
   "id": "d44e4c70",
   "metadata": {},
   "outputs": [
    {
     "name": "stdout",
     "output_type": "stream",
     "text": [
      "Prabal\n",
      "Gaurav\n"
     ]
    }
   ],
   "source": [
    "#INDEXING in lists\n",
    "\n",
    "#indexing in programming starts with 0,1,2,3.......\n",
    "\n",
    "print(saisushman[2])\n",
    "\n",
    "#how to always get the last item in tha array - counting from last starts from -1, -2, -3, .......\n",
    "\n",
    " \n",
    "print(saisushman[-1])"
   ]
  },
  {
   "cell_type": "code",
   "execution_count": 47,
   "id": "a4603a4c",
   "metadata": {},
   "outputs": [
    {
     "name": "stdout",
     "output_type": "stream",
     "text": [
      "['Shobhit', 'Tanmay', 'Prabal', 'Lucky']\n"
     ]
    }
   ],
   "source": [
    "#SLICING - to select only a chuck of items from the array\n",
    "\n",
    "print(saisushman[0:4])\n",
    "\n",
    "#slicing works like selecting items from position 1 to position 3 - here position 0 - Tanmay and postion 3 - lucky - Here we need \n",
    "# to understand that the first position on the slicing argument is inclusive and the last position is exclusive meaning\n",
    "# like we have called 0 to 4 - then it will only give items from postion 0 (as its inclusive) to postion 3 (as position 4 was exclusive)"
   ]
  },
  {
   "cell_type": "code",
   "execution_count": 49,
   "id": "2917928a",
   "metadata": {},
   "outputs": [
    {
     "data": {
      "text/plain": [
       "6"
      ]
     },
     "execution_count": 49,
     "metadata": {},
     "output_type": "execute_result"
    }
   ],
   "source": [
    "#LENGTH of an array\n",
    "\n",
    "len(saisushman)"
   ]
  },
  {
   "cell_type": "code",
   "execution_count": 51,
   "id": "9a5267e3",
   "metadata": {},
   "outputs": [
    {
     "name": "stdout",
     "output_type": "stream",
     "text": [
      "['Shobhit', 'Tanmay', 'Prabal', 'Lucky', 'Gaurav']\n"
     ]
    }
   ],
   "source": [
    "print(saisushman[0:len(saisushman)-1])"
   ]
  },
  {
   "cell_type": "code",
   "execution_count": 54,
   "id": "cd89ead0",
   "metadata": {},
   "outputs": [
    {
     "name": "stdout",
     "output_type": "stream",
     "text": [
      "['Shobhit', 'Tanmay', 'Prabal', 'Lucky', 'Gaurav', 'Gaurav']\n",
      "['Shobhit', 'Prabal', 'Gaurav']\n"
     ]
    }
   ],
   "source": [
    "#STEP Slicing\n",
    "\n",
    "# Here the slicing happened but it also skipped few names - here in the argument we wrote - start from position 0 to position 5\n",
    "# but select every second name only\n",
    "print(saisushman)\n",
    "\n",
    "print(saisushman[0:6:2])"
   ]
  },
  {
   "cell_type": "code",
   "execution_count": 56,
   "id": "eb915d71",
   "metadata": {},
   "outputs": [
    {
     "name": "stdout",
     "output_type": "stream",
     "text": [
      "['Shobhit', 'Tanmay', 'Prabal', 'Lucky', 'Gaurav', 'Gaurav']\n"
     ]
    }
   ],
   "source": [
    "print(saisushman)"
   ]
  },
  {
   "cell_type": "code",
   "execution_count": 60,
   "id": "d234395e",
   "metadata": {},
   "outputs": [
    {
     "name": "stdout",
     "output_type": "stream",
     "text": [
      "['Gaurav', 'Gaurav', 'Lucky', 'Prabal', 'Tanmay', 'Shobhit']\n"
     ]
    }
   ],
   "source": [
    "print(saisushman[::-1]) #reverse the array"
   ]
  },
  {
   "cell_type": "code",
   "execution_count": 62,
   "id": "1896c48f",
   "metadata": {},
   "outputs": [
    {
     "name": "stdout",
     "output_type": "stream",
     "text": [
      "['Gaurav', 'Gaurav', 'Lucky', 'Prabal', 'Tanmay']\n"
     ]
    }
   ],
   "source": [
    "print(saisushman[6:0:-1]) #since while skipping -1 steps means we have reveresed the skipping order therefore we will have to \n",
    "                          # do the same in selection also"
   ]
  },
  {
   "cell_type": "code",
   "execution_count": 1,
   "id": "ba71819b",
   "metadata": {},
   "outputs": [
    {
     "name": "stdout",
     "output_type": "stream",
     "text": [
      "Shobhit Jain\n",
      "9\n",
      "3\n"
     ]
    },
    {
     "data": {
      "text/plain": [
       "5"
      ]
     },
     "execution_count": 1,
     "metadata": {},
     "output_type": "execute_result"
    }
   ],
   "source": [
    "# we can put all type of data inside the lists. Lists are not restrained to any specific data types \n",
    "list1 = [\"Shobhit Jain\", 9 , 3, 1994 , 28.75]\n",
    "print(list1[0])\n",
    "print(list1[1])\n",
    "print(list1[2])\n",
    "\n",
    "len(list1)"
   ]
  },
  {
   "cell_type": "code",
   "execution_count": 2,
   "id": "cbc61356",
   "metadata": {},
   "outputs": [],
   "source": [
    "#### METHODS in lists ######\n",
    "# Append - to add a new item at the end of the list\n",
    "# Insert - to insert a new item anywhere in the list\n",
    "# Clear - to clear out the whole list\n",
    "# Index - \n",
    "# Count -\n",
    "# Remove - to remove items from a list\n",
    "# Sort - allows you to sort the list\n",
    "# Reverse - allows you to reverse the position of the items in the list\n",
    "# Pop - allows you to remove the last item in the list and create a new list"
   ]
  },
  {
   "cell_type": "code",
   "execution_count": 4,
   "id": "540cc6de",
   "metadata": {},
   "outputs": [
    {
     "name": "stdout",
     "output_type": "stream",
     "text": [
      "Shobhit\n"
     ]
    }
   ],
   "source": [
    "#### DICTIONARY IN PYTHON\n",
    "\n",
    "# Dictionaries have a KEY VALUE pair\n",
    "\n",
    "# person = {key:value} format - so while defining a dictionary we define them in a KEY VALUE format\n",
    " \n",
    "person = {\"Name\": \"Shobhit\"}\n",
    "\n",
    "print(person[\"Name\"])"
   ]
  },
  {
   "cell_type": "code",
   "execution_count": 16,
   "id": "e807182a",
   "metadata": {},
   "outputs": [
    {
     "name": "stdout",
     "output_type": "stream",
     "text": [
      "Badminton\n"
     ]
    }
   ],
   "source": [
    "person1 = {\n",
    "    'name': 'Shobhit', \n",
    "           'shirt':'Black',\n",
    "           'laptop':'Apple',\n",
    "           'sports':'Badminton'\n",
    "          }\n",
    "\n",
    "print(person1['sports'])\n",
    "\n",
    "#Dictionaries are called objects in JAVA"
   ]
  },
  {
   "cell_type": "code",
   "execution_count": 1,
   "id": "86989744",
   "metadata": {},
   "outputs": [
    {
     "ename": "NameError",
     "evalue": "name 'person1' is not defined",
     "output_type": "error",
     "traceback": [
      "\u001b[1;31m---------------------------------------------------------------------------\u001b[0m",
      "\u001b[1;31mNameError\u001b[0m                                 Traceback (most recent call last)",
      "\u001b[1;32m<ipython-input-1-a1f63554f80a>\u001b[0m in \u001b[0;36m<module>\u001b[1;34m\u001b[0m\n\u001b[0;32m      4\u001b[0m     \u001b[0mprint\u001b[0m\u001b[1;33m(\u001b[0m\u001b[1;34mf'Hi my name is {person1[\"name\"]}, I like wearing {person1[\"shirt\"]} shirt, I use {person1[\"laptop\"]} laptop and I also like playing {person1[\"sports\"]}'\u001b[0m\u001b[1;33m)\u001b[0m\u001b[1;33m\u001b[0m\u001b[1;33m\u001b[0m\u001b[0m\n\u001b[0;32m      5\u001b[0m \u001b[1;33m\u001b[0m\u001b[0m\n\u001b[1;32m----> 6\u001b[1;33m \u001b[0mintroduce\u001b[0m\u001b[1;33m(\u001b[0m\u001b[1;33m)\u001b[0m\u001b[1;33m\u001b[0m\u001b[1;33m\u001b[0m\u001b[0m\n\u001b[0m\u001b[0;32m      7\u001b[0m \u001b[1;33m\u001b[0m\u001b[0m\n\u001b[0;32m      8\u001b[0m \u001b[1;31m# Here one very important thing to leaen is that I have used single quote ('') with f' and double quotes (\" \") while calling dictionary\u001b[0m\u001b[1;33m\u001b[0m\u001b[1;33m\u001b[0m\u001b[1;33m\u001b[0m\u001b[0m\n",
      "\u001b[1;32m<ipython-input-1-a1f63554f80a>\u001b[0m in \u001b[0;36mintroduce\u001b[1;34m()\u001b[0m\n\u001b[0;32m      2\u001b[0m \u001b[1;33m\u001b[0m\u001b[0m\n\u001b[0;32m      3\u001b[0m \u001b[1;32mdef\u001b[0m \u001b[0mintroduce\u001b[0m\u001b[1;33m(\u001b[0m\u001b[1;33m)\u001b[0m\u001b[1;33m:\u001b[0m\u001b[1;33m\u001b[0m\u001b[1;33m\u001b[0m\u001b[0m\n\u001b[1;32m----> 4\u001b[1;33m     \u001b[0mprint\u001b[0m\u001b[1;33m(\u001b[0m\u001b[1;34mf'Hi my name is {person1[\"name\"]}, I like wearing {person1[\"shirt\"]} shirt, I use {person1[\"laptop\"]} laptop and I also like playing {person1[\"sports\"]}'\u001b[0m\u001b[1;33m)\u001b[0m\u001b[1;33m\u001b[0m\u001b[1;33m\u001b[0m\u001b[0m\n\u001b[0m\u001b[0;32m      5\u001b[0m \u001b[1;33m\u001b[0m\u001b[0m\n\u001b[0;32m      6\u001b[0m \u001b[0mintroduce\u001b[0m\u001b[1;33m(\u001b[0m\u001b[1;33m)\u001b[0m\u001b[1;33m\u001b[0m\u001b[1;33m\u001b[0m\u001b[0m\n",
      "\u001b[1;31mNameError\u001b[0m: name 'person1' is not defined"
     ]
    }
   ],
   "source": [
    "# INTRODUCER APPLICATION\n",
    "\n",
    "def introduce():\n",
    "    print(f'Hi my name is {person1[\"name\"]}, I like wearing {person1[\"shirt\"]} shirt, I use {person1[\"laptop\"]} laptop and I also like playing {person1[\"sports\"]}')\n",
    "    \n",
    "introduce()\n",
    "\n",
    "# Here one very important thing to leaen is that I have used single quote ('') with f' and double quotes (\" \") while calling dictionary\n",
    "# thats done to resolve an error as python was not able to read"
   ]
  },
  {
   "cell_type": "code",
   "execution_count": 11,
   "id": "5ea425fc",
   "metadata": {},
   "outputs": [
    {
     "name": "stdout",
     "output_type": "stream",
     "text": [
      "Hi! My name is Shobhit, I like playing Badminton, I work as a Project Manager in Alstom. While working here I have created a networth of 190000\n"
     ]
    }
   ],
   "source": [
    "### REVISE THIS ####\n",
    "\n",
    "## Lets play around with the INTRODUCER Function to understand\n",
    "## DICTIONARIES\n",
    "\n",
    "def introducer():\n",
    "    person1 = {\n",
    "        'name' : 'Shobhit',\n",
    "        'sport' : 'Badminton',\n",
    "        'profession' : 'Project Manager',\n",
    "        'company' : 'Alstom',\n",
    "        'asset' : 200000,\n",
    "        'debt' : 10000,\n",
    "        'networth': lambda: person1['asset'] - person1['debt']\n",
    "    }\n",
    "    \n",
    "    print(f\"Hi! My name is {person1['name']}, I like playing {person1['sport']}, I work as a {person1['profession']} in {person1['company']}. While working here I have created a networth of {person1['networth']()}\")\n",
    "    \n",
    "introducer()\n",
    "\n",
    "# here I made a mistake to put the integer values of asset and debt in quotes. Only strings are required to be put in quotes and nothing else.\n",
    "\n",
    "# Here I also learned that dictionaries can have a function as a value for any of its keys.\n",
    "\n",
    "# Here I also learned is Lamda functions doesnot need a return statement as they have an implicit return in them\n",
    "\n",
    "# Also whenerver you have to call a function, you need to put the parenthesis () at the end of it and thats the reason we used them in the print statement"
   ]
  },
  {
   "cell_type": "code",
   "execution_count": 14,
   "id": "3f4314c0",
   "metadata": {},
   "outputs": [
    {
     "name": "stdout",
     "output_type": "stream",
     "text": [
      "['apple', 'mango', 'banana']\n"
     ]
    }
   ],
   "source": [
    "# dictionaries can also hold an array as values in them\n",
    "\n",
    "person2 = {\n",
    "    'name': 'Shobhit',\n",
    "    'favouritefruit' : ['apple', 'mango', 'banana']\n",
    "}\n",
    "\n",
    "#always remember to put a comma after every key-value pair\n",
    "\n",
    "print(person2['favouritefruit'])"
   ]
  },
  {
   "cell_type": "code",
   "execution_count": 15,
   "id": "d1fe3d0c",
   "metadata": {},
   "outputs": [],
   "source": [
    "# when we are storing phone numbers in dictionaries, they are generally stored as strings"
   ]
  },
  {
   "cell_type": "code",
   "execution_count": 17,
   "id": "10e90046",
   "metadata": {},
   "outputs": [
    {
     "name": "stdout",
     "output_type": "stream",
     "text": [
      "dict_values(['Shobhit', ['apple', 'mango', 'banana']])\n"
     ]
    }
   ],
   "source": [
    "# METHODS IN DICTIONARIES\n",
    "\n",
    "print(person2.values())\n",
    "\n",
    "## dictionary name .values gives all the values associated with all the keys"
   ]
  },
  {
   "cell_type": "code",
   "execution_count": 19,
   "id": "fd3c842c",
   "metadata": {},
   "outputs": [
    {
     "name": "stdout",
     "output_type": "stream",
     "text": [
      "dict_values(['Prabal', ['apple', 'mango', 'banana']])\n"
     ]
    }
   ],
   "source": [
    "# dictionaries are mutable means changeble and we will change the name in the dictionary \n",
    "\n",
    "person2['name'] = 'Prabal'\n",
    "print(person2.values())"
   ]
  },
  {
   "cell_type": "code",
   "execution_count": null,
   "id": "063e5276",
   "metadata": {},
   "outputs": [],
   "source": [
    "## TUPLEs "
   ]
  }
 ],
 "metadata": {
  "kernelspec": {
   "display_name": "Python 3",
   "language": "python",
   "name": "python3"
  },
  "language_info": {
   "codemirror_mode": {
    "name": "ipython",
    "version": 3
   },
   "file_extension": ".py",
   "mimetype": "text/x-python",
   "name": "python",
   "nbconvert_exporter": "python",
   "pygments_lexer": "ipython3",
   "version": "3.8.8"
  }
 },
 "nbformat": 4,
 "nbformat_minor": 5
}
