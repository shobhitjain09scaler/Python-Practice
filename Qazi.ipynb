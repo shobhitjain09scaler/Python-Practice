{
 "cells": [
  {
   "cell_type": "code",
   "execution_count": 3,
   "id": "c3913406",
   "metadata": {},
   "outputs": [],
   "source": [
    "#this is the way to write comments"
   ]
  },
  {
   "cell_type": "code",
   "execution_count": 5,
   "id": "4062a874",
   "metadata": {},
   "outputs": [
    {
     "name": "stdout",
     "output_type": "stream",
     "text": [
      "Hello World\n"
     ]
    }
   ],
   "source": [
    "print('Hello World')"
   ]
  },
  {
   "cell_type": "code",
   "execution_count": 7,
   "id": "d73900ad",
   "metadata": {},
   "outputs": [],
   "source": [
    "#this is how the variables are declared - variables cannot be declared starting with any number and can only start with a letter\n",
    "name = 'Shobhit Jain'"
   ]
  },
  {
   "cell_type": "code",
   "execution_count": 9,
   "id": "d56324b0",
   "metadata": {},
   "outputs": [
    {
     "name": "stdout",
     "output_type": "stream",
     "text": [
      "Shobhit Jain\n"
     ]
    }
   ],
   "source": [
    "print(name)"
   ]
  },
  {
   "cell_type": "code",
   "execution_count": 16,
   "id": "778385ba",
   "metadata": {},
   "outputs": [
    {
     "name": "stdout",
     "output_type": "stream",
     "text": [
      "20\n"
     ]
    }
   ],
   "source": [
    "#we can save multiple varibles by separating them by a comma (',')\n",
    "length, breadth, height = 20, 30, 40\n",
    "print(length)"
   ]
  },
  {
   "cell_type": "code",
   "execution_count": 25,
   "id": "2dd87496",
   "metadata": {},
   "outputs": [
    {
     "name": "stdout",
     "output_type": "stream",
     "text": [
      "40\n"
     ]
    }
   ],
   "source": [
    "print(height)"
   ]
  },
  {
   "cell_type": "code",
   "execution_count": 1,
   "id": "ee2fd17f",
   "metadata": {},
   "outputs": [
    {
     "name": "stdout",
     "output_type": "stream",
     "text": [
      "Please enter your name =Shobhit\n"
     ]
    }
   ],
   "source": [
    "your_name = input(\"Please enter your name =\")"
   ]
  },
  {
   "cell_type": "code",
   "execution_count": 2,
   "id": "543b1fc0",
   "metadata": {},
   "outputs": [
    {
     "name": "stdout",
     "output_type": "stream",
     "text": [
      "Shobhit\n"
     ]
    }
   ],
   "source": [
    "print(your_name)"
   ]
  },
  {
   "cell_type": "code",
   "execution_count": 31,
   "id": "f6e96a44",
   "metadata": {},
   "outputs": [
    {
     "name": "stdout",
     "output_type": "stream",
     "text": [
      "Volume of the cuboid 24000\n"
     ]
    }
   ],
   "source": [
    "print(\"Volume of the cuboid \" + str(length*breadth*height))\n",
    "\n",
    "#here we learned how to concatenate two strings\n",
    "#here we also learned how we cannot concatenate string with an integer and therefore what i did is that i converted the integer into string"
   ]
  },
  {
   "cell_type": "code",
   "execution_count": null,
   "id": "314049e4",
   "metadata": {},
   "outputs": [],
   "source": [
    "num1 = input(\"Please enter a number = \")\n",
    "num2 = input(\"Please enter another number = \")\n",
    "print(num1, num2)"
   ]
  },
  {
   "cell_type": "code",
   "execution_count": 36,
   "id": "ea7ec719",
   "metadata": {},
   "outputs": [
    {
     "name": "stdout",
     "output_type": "stream",
     "text": [
      "Please enter your first number = 1\n",
      "Please enter your second number = 2\n",
      "3\n"
     ]
    }
   ],
   "source": [
    "#always remember that here the python is considering the numbers here as strings and not integers and therefore no mathematicsal functions will work on them\n",
    "#therefore we need to convert them into integers\n",
    "#Method 1: to convert any variable into int\n",
    "\n",
    "num3 = int(input(\"Please enter your first number = \"))\n",
    "num4 = int(input(\"Please enter your second number = \"))\n",
    "\n",
    "print(num3 + num4)"
   ]
  },
  {
   "cell_type": "code",
   "execution_count": null,
   "id": "eee66126",
   "metadata": {},
   "outputs": [],
   "source": [
    "#Method 2: to convert the string into int\n",
    "print(int(num1) + int(num2))"
   ]
  },
  {
   "cell_type": "code",
   "execution_count": null,
   "id": "19a9f470",
   "metadata": {},
   "outputs": [],
   "source": [
    "#TIP CALCULATOR APPLICATION"
   ]
  },
  {
   "cell_type": "code",
   "execution_count": 8,
   "id": "f8e16c84",
   "metadata": {},
   "outputs": [
    {
     "name": "stdout",
     "output_type": "stream",
     "text": [
      "Please enter your bill amount = 190\n",
      "Enter your tip percentage % = 17\n",
      "$32.300000000000004\n"
     ]
    }
   ],
   "source": [
    "food_amount = int(input(\"Please enter your bill amount = \"))\n",
    "tip_percent = int(input(\"Enter your tip percentage % = \")) / 100\n",
    "tip_amount = food_amount*tip_percent\n",
    "print(\"$\" + str(tip_amount))"
   ]
  },
  {
   "cell_type": "code",
   "execution_count": 16,
   "id": "e30029b1",
   "metadata": {},
   "outputs": [
    {
     "name": "stdout",
     "output_type": "stream",
     "text": [
      "Tip Amount = 32.300000000000004\n",
      "\n",
      "\n"
     ]
    }
   ],
   "source": [
    "#string formatting\n",
    "print(f'Tip Amount = {tip_amount}')\n",
    "print(\"\\n\")"
   ]
  },
  {
   "cell_type": "code",
   "execution_count": 4,
   "id": "c8249cf4",
   "metadata": {},
   "outputs": [
    {
     "name": "stdout",
     "output_type": "stream",
     "text": [
      "What is the weather condition today? (Sunny or Rainy or Cloudy) = Thunderstorm\n",
      "Please stay at home\n"
     ]
    }
   ],
   "source": [
    "#BOOLEAN - boolean can only be TRUE or FALSE\n",
    "#WEATHER APPLICATION\n",
    "\n",
    "weather_condition = input(\"What is the weather condition today? (Sunny or Rainy or Cloudy) = \")\n",
    "if weather_condition == \"Rainy\":\n",
    "    print(\"Please carry your umbrella.\")\n",
    "elif weather_condition == \"Cloudy\":\n",
    "    print(\"Please wear some warm clothes\")\n",
    "elif weather_condition == \"Thunderstorm\":\n",
    "    print(\"Please stay at home\")\n",
    "else:\n",
    "    print(\"Please carry your sunglasses\")"
   ]
  },
  {
   "cell_type": "code",
   "execution_count": 4,
   "id": "6e9542fc",
   "metadata": {},
   "outputs": [
    {
     "name": "stdout",
     "output_type": "stream",
     "text": [
      "Please enter the marks obtained = 10\n",
      "You could not clear the round. You need to work hard!\n"
     ]
    }
   ],
   "source": [
    "#Grade Generator Application\n",
    "score = int(input(\"Please enter the marks obtained = \"))\n",
    "\n",
    "if score >= 95:\n",
    "    print(\"You received A+ Grade\")\n",
    "elif score >= 90:\n",
    "    print(\"You received A Grade\")\n",
    "elif score >= 85:\n",
    "    print(\"You received B+ Grade\")\n",
    "elif score >= 80:\n",
    "    print(\"You received B Grade\")\n",
    "elif score >= 75:\n",
    "    print(\"You received C+ Grade\")\n",
    "elif score >= 70:\n",
    "    print(\"You received C Grade\")\n",
    "else: \n",
    "    print(\"You could not clear the round. You need to work hard!\")"
   ]
  },
  {
   "cell_type": "code",
   "execution_count": 2,
   "id": "ec7f6adc",
   "metadata": {},
   "outputs": [
    {
     "data": {
      "text/plain": [
       "bool"
      ]
     },
     "execution_count": 2,
     "metadata": {},
     "output_type": "execute_result"
    }
   ],
   "source": [
    "type(False)"
   ]
  },
  {
   "cell_type": "code",
   "execution_count": 8,
   "id": "c8a2d01e",
   "metadata": {},
   "outputs": [
    {
     "name": "stdout",
     "output_type": "stream",
     "text": [
      "Fail\n"
     ]
    }
   ],
   "source": [
    "#pythonic way of writing the same code\n",
    "score1 = 55\n",
    "if 60 <= score1 <= 100:\n",
    "    print(\"Passing Grade\")\n",
    "else:\n",
    "    print(\"Fail\")"
   ]
  },
  {
   "cell_type": "code",
   "execution_count": 10,
   "id": "3f68fc91",
   "metadata": {},
   "outputs": [
    {
     "name": "stdout",
     "output_type": "stream",
     "text": [
      "This test is done\n"
     ]
    }
   ],
   "source": [
    "#same code with 'and' in the if condition\n",
    "score2= 87\n",
    "if score2 <= 60 and score2 >=50:\n",
    "    print(\"You passed by margin\")\n",
    "else:\n",
    "    print(\"This test is done\")"
   ]
  },
  {
   "cell_type": "code",
   "execution_count": 12,
   "id": "41e19f8a",
   "metadata": {},
   "outputs": [
    {
     "name": "stdout",
     "output_type": "stream",
     "text": [
      "You have passed the test\n"
     ]
    }
   ],
   "source": [
    "#same code with or in the if condition\n",
    "score3 = 66\n",
    "if score >= 60 or score <=100:\n",
    "    print(\"You have passed the test\")\n",
    "else:\n",
    "    print(\"something is wrong\")"
   ]
  },
  {
   "cell_type": "code",
   "execution_count": 14,
   "id": "607f5537",
   "metadata": {},
   "outputs": [
    {
     "name": "stdout",
     "output_type": "stream",
     "text": [
      "Shobhit Jain\n"
     ]
    }
   ],
   "source": [
    "#FUNCTIONS\n",
    "\n",
    "#functions allow you to run big chunk of codes easily with just one call\n",
    "\n",
    "#this is how a function is defined\n",
    "\n",
    "def say_my_name():\n",
    "    print(\"Shobhit Jain\")\n",
    "    \n",
    "#this is how a defined function is called\n",
    "say_my_name()"
   ]
  },
  {
   "cell_type": "code",
   "execution_count": 17,
   "id": "29fc2d35",
   "metadata": {},
   "outputs": [
    {
     "name": "stdout",
     "output_type": "stream",
     "text": [
      "Shobhit\n"
     ]
    }
   ],
   "source": [
    "#adding an argument in the function\n",
    "\n",
    "#if we want our function to be more dynamic, we will add an argument in the function\n",
    "\n",
    "def say_my_name1(name):\n",
    "    print(name)\n",
    "    \n",
    "#now lets call the function and add a name in the argument so that it will take that value in the whole function\n",
    "say_my_name1(\"Shobhit\")"
   ]
  },
  {
   "cell_type": "code",
   "execution_count": 23,
   "id": "3b595fa9",
   "metadata": {},
   "outputs": [
    {
     "name": "stdout",
     "output_type": "stream",
     "text": [
      "Hey Shobhit !\n"
     ]
    }
   ],
   "source": [
    "#MULTIPLE ARGUMENTS IN A FUNCTION\n",
    "\n",
    "def greet(greeting,name):\n",
    "    print(f'{greeting}{name} !')\n",
    "    \n",
    "# f' is used for easy dynamic string formatting - string interpolation\n",
    "    \n",
    "greet(\"Hey \", \"Shobhit\")"
   ]
  },
  {
   "cell_type": "code",
   "execution_count": 27,
   "id": "4fb5d663",
   "metadata": {},
   "outputs": [
    {
     "name": "stdout",
     "output_type": "stream",
     "text": [
      "19\n"
     ]
    }
   ],
   "source": [
    "def sum(a,b):\n",
    "    return a + b\n",
    "\n",
    "'''\n",
    "here we did not use print (a+b) and instead we used return, \n",
    "because this way we can allocate the value of this function to any variable as well\n",
    "'''\n",
    "\n",
    "add = sum(4,5)\n",
    "\n",
    "print(add + 10)"
   ]
  },
  {
   "cell_type": "code",
   "execution_count": 17,
   "id": "49a80626",
   "metadata": {},
   "outputs": [
    {
     "name": "stdout",
     "output_type": "stream",
     "text": [
      "Tip Value: $250.0\n",
      "Total Bill Amount: $1250.0\n"
     ]
    }
   ],
   "source": [
    "#TIP CALCULATOR APPLICATION - using a Function\n",
    "'''\n",
    "variables were order_value and tip_percent and the answer was tip_value and total_bill_amount\n",
    "'''\n",
    "\n",
    "def tip_cal(order_value,tip_percent):\n",
    "    tip = order_value * tip_percent/100\n",
    "    bill = order_value + tip\n",
    "    print(\"Tip Value: $\" + str(tip))\n",
    "    print(\"Total Bill Amount: $\" + str(bill))\n",
    "\n",
    "tip_cal(1000,25)"
   ]
  },
  {
   "cell_type": "code",
   "execution_count": 21,
   "id": "a5cceac1",
   "metadata": {},
   "outputs": [
    {
     "name": "stdout",
     "output_type": "stream",
     "text": [
      "Please carry your umbrella.\n"
     ]
    }
   ],
   "source": [
    "#WEATHER APPLICATION\n",
    "\n",
    "def weather(weather_cond):\n",
    "    if weather_cond == \"Rainy\":\n",
    "        print(\"Please carry your umbrella.\")\n",
    "    elif weather_cond == \"Cloudy\":\n",
    "        print(\"Please wear some warm clothes\")\n",
    "    elif weather_cond == \"Thunderstorm\":\n",
    "        print(\"Please stay at home\")\n",
    "    else:\n",
    "        print(\"Please carry your sunglasses\")\n",
    "\n",
    "weather(\"Rainy\")"
   ]
  },
  {
   "cell_type": "code",
   "execution_count": 24,
   "id": "bb7a68f9",
   "metadata": {},
   "outputs": [
    {
     "name": "stdout",
     "output_type": "stream",
     "text": [
      "The largest number is: 7\n"
     ]
    }
   ],
   "source": [
    "#Print the Greater Number Application\n",
    "\n",
    "def great(a,b,c):\n",
    "    if a>b and a>c:\n",
    "        print(\"The largest number is: \" + str(a))\n",
    "    elif b>a and b>c:\n",
    "        print(\"The largest number is: \" + str(b))\n",
    "    elif c>a and c>b:\n",
    "        print(\"The largest number is: \" + str(c))\n",
    "    else:\n",
    "        print(\"The numbers are equal !\")\n",
    "    \n",
    "\n",
    "great(1,4,7)"
   ]
  },
  {
   "cell_type": "code",
   "execution_count": 2,
   "id": "3128371b",
   "metadata": {},
   "outputs": [
    {
     "data": {
      "text/plain": [
       "10"
      ]
     },
     "execution_count": 2,
     "metadata": {},
     "output_type": "execute_result"
    }
   ],
   "source": [
    "#LAMBDA FUNCTION\n",
    "\n",
    "#creating a sum function to understand what exactly is lambda functions\n",
    "def sum9(a,b):\n",
    "    sum9 = a + b\n",
    "    return sum9\n",
    "\n",
    "sum9(9,1)"
   ]
  },
  {
   "cell_type": "code",
   "execution_count": 4,
   "id": "547fafda",
   "metadata": {},
   "outputs": [
    {
     "data": {
      "text/plain": [
       "10"
      ]
     },
     "execution_count": 4,
     "metadata": {},
     "output_type": "execute_result"
    }
   ],
   "source": [
    "#Now lets create the same using lambda function: lambda arg1, arg 2: arg1 <exp> arg2\n",
    "sum8 = lambda a,b: a+b\n",
    "\n",
    "sum8(9,1)\n",
    "\n",
    "#so here we created a whole function in just one line"
   ]
  },
  {
   "cell_type": "code",
   "execution_count": 8,
   "id": "bac2a083",
   "metadata": {},
   "outputs": [
    {
     "data": {
      "text/plain": [
       "9"
      ]
     },
     "execution_count": 8,
     "metadata": {},
     "output_type": "execute_result"
    }
   ],
   "source": [
    "multiply = lambda a,b: a*b\n",
    "\n",
    "multiply(9,1)"
   ]
  },
  {
   "cell_type": "code",
   "execution_count": 14,
   "id": "d5a33700",
   "metadata": {},
   "outputs": [
    {
     "data": {
      "text/plain": [
       "'Hi Shobhit'"
      ]
     },
     "execution_count": 14,
     "metadata": {},
     "output_type": "execute_result"
    }
   ],
   "source": [
    "greet = lambda greeting, name: f\"{greeting} {name}\"\n",
    "greet(\"Hi\", \"Shobhit\")"
   ]
  },
  {
   "cell_type": "code",
   "execution_count": 26,
   "id": "d936c700",
   "metadata": {},
   "outputs": [
    {
     "name": "stdout",
     "output_type": "stream",
     "text": [
      "Code is working correctly\n"
     ]
    }
   ],
   "source": [
    "#TESTING YOUR CODE / UNIT TESTING\n",
    "\n",
    "sumproduct = lambda a,b,c : a*b+c\n",
    "\n",
    "sumproduct(2,3,4)\n",
    "#this means code is working as expected\n",
    "\n",
    "assert sumproduct(2,3,4) == 10\n",
    "print(\"Code is working correctly\")"
   ]
  },
  {
   "cell_type": "code",
   "execution_count": 23,
   "id": "8a92e01d",
   "metadata": {},
   "outputs": [
    {
     "ename": "SyntaxError",
     "evalue": "invalid syntax (<ipython-input-23-2565d3789886>, line 10)",
     "output_type": "error",
     "traceback": [
      "\u001b[1;36m  File \u001b[1;32m\"<ipython-input-23-2565d3789886>\"\u001b[1;36m, line \u001b[1;32m10\u001b[0m\n\u001b[1;33m    sumprod = lambda a,b,c = a*b-c\u001b[0m\n\u001b[1;37m                                  ^\u001b[0m\n\u001b[1;31mSyntaxError\u001b[0m\u001b[1;31m:\u001b[0m invalid syntax\n"
     ]
    }
   ],
   "source": [
    "#Lets test\n",
    "\n",
    "assert sumproduct(2,3,4) == 10\n",
    "\n",
    "#on pressing ctrl+enter this will not produce any result and therefore this means the code is working properly\n",
    "#if in case you have coded a wrong code then it will throw an error message\n",
    "\n",
    "#lets test with a wrong code\n",
    "\n",
    "sumprod = lambda a,b,c = a*b-c\n",
    "\n",
    "assert sumprod(2,3,4) == 10\n",
    "'''\n",
    "so basically what asset does is that if your assert statement is correct - means the function which you are trying to test is\n",
    "correctly coded the your code will run through your assert statement without any message but if its not correct then it would\n",
    "throw an assertion error\n",
    "'''"
   ]
  },
  {
   "cell_type": "code",
   "execution_count": 33,
   "id": "7de1fbf8",
   "metadata": {},
   "outputs": [
    {
     "name": "stdout",
     "output_type": "stream",
     "text": [
      "['Shobhit', 'Tanmay', 'Prabal', 'Lucky']\n"
     ]
    }
   ],
   "source": [
    "#LISTS (Arrays)\n",
    "\n",
    "saisushman = [\"Shobhit\", \"Tanmay\", \"Prabal\", \"Lucky\"]\n",
    "print(saisushman)\n"
   ]
  },
  {
   "cell_type": "code",
   "execution_count": 35,
   "id": "c9b61d5f",
   "metadata": {},
   "outputs": [
    {
     "name": "stdout",
     "output_type": "stream",
     "text": [
      "['Shobhit', 'Tanmay', 'Prabal', 'Lucky', 'Gaurav', 'Gaurav']\n"
     ]
    },
    {
     "data": {
      "text/plain": [
       "'\\nso APPEND method or .append will add any argument in the last position of the list\\n'"
      ]
     },
     "execution_count": 35,
     "metadata": {},
     "output_type": "execute_result"
    }
   ],
   "source": [
    "#METHODS in lists\n",
    "\n",
    "#APPEND\n",
    "saisushman.append(\"Gaurav\")\n",
    "print(saisushman)\n",
    "'''\n",
    "so APPEND method or .append will add any argument in the last position of the list (to the end)\n",
    "'''"
   ]
  },
  {
   "cell_type": "code",
   "execution_count": 38,
   "id": "d44e4c70",
   "metadata": {},
   "outputs": [
    {
     "name": "stdout",
     "output_type": "stream",
     "text": [
      "Prabal\n",
      "Gaurav\n"
     ]
    }
   ],
   "source": [
    "#INDEXING in lists\n",
    "\n",
    "#indexing in programming starts with 0,1,2,3.......\n",
    "\n",
    "print(saisushman[2])\n",
    "\n",
    "#how to always get the last item in tha array - counting from last starts from -1, -2, -3, .......\n",
    "\n",
    " \n",
    "print(saisushman[-1])"
   ]
  },
  {
   "cell_type": "code",
   "execution_count": 47,
   "id": "a4603a4c",
   "metadata": {},
   "outputs": [
    {
     "name": "stdout",
     "output_type": "stream",
     "text": [
      "['Shobhit', 'Tanmay', 'Prabal', 'Lucky']\n"
     ]
    }
   ],
   "source": [
    "#SLICING - to select only a chuck of items from the array\n",
    "\n",
    "print(saisushman[0:4])\n",
    "\n",
    "#slicing works like selecting items from position 1 to position 3 - here position 0 - Tanmay and postion 3 - lucky - Here we need \n",
    "# to understand that the first position on the slicing argument is inclusive and the last position is exclusive meaning\n",
    "# like we have called 0 to 4 - then it will only give items from postion 0 (as its inclusive) to postion 3 (as position 4 was exclusive)"
   ]
  },
  {
   "cell_type": "code",
   "execution_count": 49,
   "id": "2917928a",
   "metadata": {},
   "outputs": [
    {
     "data": {
      "text/plain": [
       "6"
      ]
     },
     "execution_count": 49,
     "metadata": {},
     "output_type": "execute_result"
    }
   ],
   "source": [
    "#LENGTH of an array\n",
    "\n",
    "len(saisushman)"
   ]
  },
  {
   "cell_type": "code",
   "execution_count": 51,
   "id": "9a5267e3",
   "metadata": {},
   "outputs": [
    {
     "name": "stdout",
     "output_type": "stream",
     "text": [
      "['Shobhit', 'Tanmay', 'Prabal', 'Lucky', 'Gaurav']\n"
     ]
    }
   ],
   "source": [
    "print(saisushman[0:len(saisushman)-1])"
   ]
  },
  {
   "cell_type": "code",
   "execution_count": 54,
   "id": "cd89ead0",
   "metadata": {},
   "outputs": [
    {
     "name": "stdout",
     "output_type": "stream",
     "text": [
      "['Shobhit', 'Tanmay', 'Prabal', 'Lucky', 'Gaurav', 'Gaurav']\n",
      "['Shobhit', 'Prabal', 'Gaurav']\n"
     ]
    }
   ],
   "source": [
    "#STEP Slicing\n",
    "\n",
    "# Here the slicing happened but it also skipped few names - here in the argument we wrote - start from position 0 to position 5\n",
    "# but select every second name only\n",
    "print(saisushman)\n",
    "\n",
    "print(saisushman[0:6:2])"
   ]
  },
  {
   "cell_type": "code",
   "execution_count": 56,
   "id": "eb915d71",
   "metadata": {},
   "outputs": [
    {
     "name": "stdout",
     "output_type": "stream",
     "text": [
      "['Shobhit', 'Tanmay', 'Prabal', 'Lucky', 'Gaurav', 'Gaurav']\n"
     ]
    }
   ],
   "source": [
    "print(saisushman)"
   ]
  },
  {
   "cell_type": "code",
   "execution_count": 60,
   "id": "d234395e",
   "metadata": {},
   "outputs": [
    {
     "name": "stdout",
     "output_type": "stream",
     "text": [
      "['Gaurav', 'Gaurav', 'Lucky', 'Prabal', 'Tanmay', 'Shobhit']\n"
     ]
    }
   ],
   "source": [
    "print(saisushman[::-1]) #reverse the array"
   ]
  },
  {
   "cell_type": "code",
   "execution_count": 62,
   "id": "1896c48f",
   "metadata": {},
   "outputs": [
    {
     "name": "stdout",
     "output_type": "stream",
     "text": [
      "['Gaurav', 'Gaurav', 'Lucky', 'Prabal', 'Tanmay']\n"
     ]
    }
   ],
   "source": [
    "print(saisushman[6:0:-1]) #since while skipping -1 steps means we have reveresed the skipping order therefore we will have to \n",
    "                          # do the same in selection also"
   ]
  },
  {
   "cell_type": "code",
   "execution_count": 1,
   "id": "ba71819b",
   "metadata": {},
   "outputs": [
    {
     "name": "stdout",
     "output_type": "stream",
     "text": [
      "Shobhit Jain\n",
      "9\n",
      "3\n"
     ]
    },
    {
     "data": {
      "text/plain": [
       "5"
      ]
     },
     "execution_count": 1,
     "metadata": {},
     "output_type": "execute_result"
    }
   ],
   "source": [
    "# we can put all type of data inside the lists. Lists are not restrained to any specific data types \n",
    "list1 = [\"Shobhit Jain\", 9 , 3, 1994 , 28.75]\n",
    "print(list1[0])\n",
    "print(list1[1])\n",
    "print(list1[2])\n",
    "\n",
    "len(list1)"
   ]
  },
  {
   "cell_type": "code",
   "execution_count": 2,
   "id": "cbc61356",
   "metadata": {},
   "outputs": [],
   "source": [
    "#### METHODS in lists ######\n",
    "# Append - to add a new item at the end of the list\n",
    "# Insert - to insert a new item anywhere in the list\n",
    "# Clear - to clear out the whole list\n",
    "# Index - \n",
    "# Count -\n",
    "# Remove - to remove items from a list\n",
    "# Sort - allows you to sort the list\n",
    "# Reverse - allows you to reverse the position of the items in the list\n",
    "# Pop - allows you to remove the last item in the list and create a new list"
   ]
  },
  {
   "cell_type": "code",
   "execution_count": 4,
   "id": "540cc6de",
   "metadata": {},
   "outputs": [
    {
     "name": "stdout",
     "output_type": "stream",
     "text": [
      "Shobhit\n"
     ]
    }
   ],
   "source": [
    "#### DICTIONARY IN PYTHON\n",
    "\n",
    "# Dictionaries have a KEY VALUE pair\n",
    "\n",
    "# person = {key:value} format - so while defining a dictionary we define them in a KEY VALUE format\n",
    " \n",
    "person = {\"Name\": \"Shobhit\"}\n",
    "\n",
    "print(person[\"Name\"])"
   ]
  },
  {
   "cell_type": "code",
   "execution_count": 16,
   "id": "e807182a",
   "metadata": {},
   "outputs": [
    {
     "name": "stdout",
     "output_type": "stream",
     "text": [
      "Badminton\n"
     ]
    }
   ],
   "source": [
    "person1 = {\n",
    "    'name': 'Shobhit', \n",
    "           'shirt':'Black',\n",
    "           'laptop':'Apple',\n",
    "           'sports':'Badminton'\n",
    "          }\n",
    "\n",
    "print(person1['sports'])\n",
    "\n",
    "#Dictionaries are called objects in JAVA"
   ]
  },
  {
   "cell_type": "code",
   "execution_count": 1,
   "id": "86989744",
   "metadata": {},
   "outputs": [
    {
     "ename": "NameError",
     "evalue": "name 'person1' is not defined",
     "output_type": "error",
     "traceback": [
      "\u001b[1;31m---------------------------------------------------------------------------\u001b[0m",
      "\u001b[1;31mNameError\u001b[0m                                 Traceback (most recent call last)",
      "\u001b[1;32m<ipython-input-1-a1f63554f80a>\u001b[0m in \u001b[0;36m<module>\u001b[1;34m\u001b[0m\n\u001b[0;32m      4\u001b[0m     \u001b[0mprint\u001b[0m\u001b[1;33m(\u001b[0m\u001b[1;34mf'Hi my name is {person1[\"name\"]}, I like wearing {person1[\"shirt\"]} shirt, I use {person1[\"laptop\"]} laptop and I also like playing {person1[\"sports\"]}'\u001b[0m\u001b[1;33m)\u001b[0m\u001b[1;33m\u001b[0m\u001b[1;33m\u001b[0m\u001b[0m\n\u001b[0;32m      5\u001b[0m \u001b[1;33m\u001b[0m\u001b[0m\n\u001b[1;32m----> 6\u001b[1;33m \u001b[0mintroduce\u001b[0m\u001b[1;33m(\u001b[0m\u001b[1;33m)\u001b[0m\u001b[1;33m\u001b[0m\u001b[1;33m\u001b[0m\u001b[0m\n\u001b[0m\u001b[0;32m      7\u001b[0m \u001b[1;33m\u001b[0m\u001b[0m\n\u001b[0;32m      8\u001b[0m \u001b[1;31m# Here one very important thing to leaen is that I have used single quote ('') with f' and double quotes (\" \") while calling dictionary\u001b[0m\u001b[1;33m\u001b[0m\u001b[1;33m\u001b[0m\u001b[1;33m\u001b[0m\u001b[0m\n",
      "\u001b[1;32m<ipython-input-1-a1f63554f80a>\u001b[0m in \u001b[0;36mintroduce\u001b[1;34m()\u001b[0m\n\u001b[0;32m      2\u001b[0m \u001b[1;33m\u001b[0m\u001b[0m\n\u001b[0;32m      3\u001b[0m \u001b[1;32mdef\u001b[0m \u001b[0mintroduce\u001b[0m\u001b[1;33m(\u001b[0m\u001b[1;33m)\u001b[0m\u001b[1;33m:\u001b[0m\u001b[1;33m\u001b[0m\u001b[1;33m\u001b[0m\u001b[0m\n\u001b[1;32m----> 4\u001b[1;33m     \u001b[0mprint\u001b[0m\u001b[1;33m(\u001b[0m\u001b[1;34mf'Hi my name is {person1[\"name\"]}, I like wearing {person1[\"shirt\"]} shirt, I use {person1[\"laptop\"]} laptop and I also like playing {person1[\"sports\"]}'\u001b[0m\u001b[1;33m)\u001b[0m\u001b[1;33m\u001b[0m\u001b[1;33m\u001b[0m\u001b[0m\n\u001b[0m\u001b[0;32m      5\u001b[0m \u001b[1;33m\u001b[0m\u001b[0m\n\u001b[0;32m      6\u001b[0m \u001b[0mintroduce\u001b[0m\u001b[1;33m(\u001b[0m\u001b[1;33m)\u001b[0m\u001b[1;33m\u001b[0m\u001b[1;33m\u001b[0m\u001b[0m\n",
      "\u001b[1;31mNameError\u001b[0m: name 'person1' is not defined"
     ]
    }
   ],
   "source": [
    "# INTRODUCER APPLICATION\n",
    "\n",
    "def introduce():\n",
    "    print(f'Hi my name is {person1[\"name\"]}, I like wearing {person1[\"shirt\"]} shirt, I use {person1[\"laptop\"]} laptop and I also like playing {person1[\"sports\"]}')\n",
    "    \n",
    "introduce()\n",
    "\n",
    "# Here one very important thing to leaen is that I have used single quote ('') with f' and double quotes (\" \") while calling dictionary\n",
    "# thats done to resolve an error as python was not able to read"
   ]
  },
  {
   "cell_type": "code",
   "execution_count": 11,
   "id": "5ea425fc",
   "metadata": {},
   "outputs": [
    {
     "name": "stdout",
     "output_type": "stream",
     "text": [
      "Hi! My name is Shobhit, I like playing Badminton, I work as a Project Manager in Alstom. While working here I have created a networth of 190000\n"
     ]
    }
   ],
   "source": [
    "### REVISE THIS ####\n",
    "\n",
    "## Lets play around with the INTRODUCER Function to understand\n",
    "## DICTIONARIES\n",
    "\n",
    "def introducer():\n",
    "    person1 = {\n",
    "        'name' : 'Shobhit',\n",
    "        'sport' : 'Badminton',\n",
    "        'profession' : 'Project Manager',\n",
    "        'company' : 'Alstom',\n",
    "        'asset' : 200000,\n",
    "        'debt' : 10000,\n",
    "        'networth': lambda: person1['asset'] - person1['debt']\n",
    "    }\n",
    "    \n",
    "    print(f\"Hi! My name is {person1['name']}, I like playing {person1['sport']}, I work as a {person1['profession']} in {person1['company']}. While working here I have created a networth of {person1['networth']()}\")\n",
    "    \n",
    "introducer()\n",
    "\n",
    "# here I made a mistake to put the integer values of asset and debt in quotes. Only strings are required to be put in quotes and nothing else.\n",
    "\n",
    "# Here I also learned that dictionaries can have a function as a value for any of its keys.\n",
    "\n",
    "# Here I also learned is Lamda functions doesnot need a return statement as they have an implicit return in them\n",
    "\n",
    "# Also whenerver you have to call a function, you need to put the parenthesis () at the end of it and thats the reason we used them in the print statement"
   ]
  },
  {
   "cell_type": "code",
   "execution_count": 2,
   "id": "3f4314c0",
   "metadata": {},
   "outputs": [
    {
     "name": "stdout",
     "output_type": "stream",
     "text": [
      "['apple', 'mango', 'banana']\n"
     ]
    }
   ],
   "source": [
    "# dictionaries can also hold an array as values in them\n",
    "\n",
    "person2 = {\n",
    "    'name': 'Shobhit',\n",
    "    'favouritefruit' : ['apple', 'mango', 'banana']\n",
    "}\n",
    "\n",
    "#always remember to put a comma after every key-value pair\n",
    "\n",
    "print(person2['favouritefruit'])"
   ]
  },
  {
   "cell_type": "code",
   "execution_count": 15,
   "id": "d1fe3d0c",
   "metadata": {},
   "outputs": [],
   "source": [
    "# when we are storing phone numbers in dictionaries, they are generally stored as strings"
   ]
  },
  {
   "cell_type": "code",
   "execution_count": 17,
   "id": "10e90046",
   "metadata": {},
   "outputs": [
    {
     "name": "stdout",
     "output_type": "stream",
     "text": [
      "dict_values(['Shobhit', ['apple', 'mango', 'banana']])\n"
     ]
    }
   ],
   "source": [
    "# METHODS IN DICTIONARIES\n",
    "\n",
    "print(person2.values())\n",
    "\n",
    "## dictionary name .values gives all the values associated with all the keys"
   ]
  },
  {
   "cell_type": "code",
   "execution_count": 3,
   "id": "fd3c842c",
   "metadata": {},
   "outputs": [
    {
     "name": "stdout",
     "output_type": "stream",
     "text": [
      "dict_values(['Prabal', ['apple', 'mango', 'banana']])\n",
      "dict_keys(['name', 'favouritefruit'])\n"
     ]
    }
   ],
   "source": [
    "# dictionaries are mutable means changeble and we will change the name in the dictionary \n",
    "\n",
    "person2['name'] = 'Prabal'\n",
    "print(person2.values())\n",
    "print(person2.keys())"
   ]
  },
  {
   "cell_type": "code",
   "execution_count": 5,
   "id": "063e5276",
   "metadata": {},
   "outputs": [
    {
     "name": "stdout",
     "output_type": "stream",
     "text": [
      "<class 'tuple'>\n"
     ]
    }
   ],
   "source": [
    "## TOUPLES\n",
    "\n",
    "numbers = (1,2)\n",
    "print(type(numbers))\n",
    "\n",
    "## Touples are immutable that means once its declared you cannot change its items in them"
   ]
  },
  {
   "cell_type": "code",
   "execution_count": 7,
   "id": "07549437",
   "metadata": {},
   "outputs": [
    {
     "name": "stdout",
     "output_type": "stream",
     "text": [
      "['ruby', 'python', 'javascript', 'ruby', 'SQL', 'JAVA', 'javascript']\n"
     ]
    }
   ],
   "source": [
    "### SETS {} ### used for getting unique elements\n",
    "\n",
    "# these are very powerful datatypes\n",
    "\n",
    "list1 = ['ruby', 'python', 'javascript']\n",
    "\n",
    "list2 = ['ruby', 'SQL', 'JAVA', 'javascript']\n",
    "\n",
    "# unique languages aka no duplicates\n",
    "\n",
    "# special keywords - list, len, max, min, set, dict etc\n",
    "\n",
    "programming_languages = list1 + list2\n",
    "print(programming_languages)"
   ]
  },
  {
   "cell_type": "code",
   "execution_count": 10,
   "id": "9c7fdea3",
   "metadata": {},
   "outputs": [
    {
     "name": "stdout",
     "output_type": "stream",
     "text": [
      "{1, 2}\n"
     ]
    }
   ],
   "source": [
    "print({1,2,2}) # when you print sets - duplicates are not printed\n",
    "\n",
    "#sets also doesnot have index - it does not store values with any index"
   ]
  },
  {
   "cell_type": "code",
   "execution_count": 13,
   "id": "216af33b",
   "metadata": {},
   "outputs": [
    {
     "name": "stdout",
     "output_type": "stream",
     "text": [
      "{1, 2, 3, 4}\n"
     ]
    }
   ],
   "source": [
    "# IN Operators in Python\n",
    "\n",
    "things = {1,2,2,3,4,4} # created a set with these values\n",
    "\n",
    "print(things)\n",
    "\n",
    "#it would only print unique values irrespective of there multiple ocurrences"
   ]
  },
  {
   "cell_type": "code",
   "execution_count": 17,
   "id": "3685d80b",
   "metadata": {},
   "outputs": [
    {
     "data": {
      "text/plain": [
       "False"
      ]
     },
     "execution_count": 17,
     "metadata": {},
     "output_type": "execute_result"
    }
   ],
   "source": [
    "#lets play with 'in' operators\n",
    "\n",
    "2 in things\n",
    "3 in things\n",
    "\n",
    "# >> TRUE\n",
    "\n",
    "5 in things\n",
    "\n",
    "# >> FALSE"
   ]
  },
  {
   "cell_type": "code",
   "execution_count": 18,
   "id": "464e10ac",
   "metadata": {},
   "outputs": [
    {
     "name": "stdout",
     "output_type": "stream",
     "text": [
      "<class 'list'>\n"
     ]
    }
   ],
   "source": [
    "# The set() function will convert an array into a set\n",
    "\n",
    "list3 = [2,3,4,4,4,5]\n",
    "print(type(list3))"
   ]
  },
  {
   "cell_type": "code",
   "execution_count": 26,
   "id": "6d45df9d",
   "metadata": {},
   "outputs": [
    {
     "name": "stdout",
     "output_type": "stream",
     "text": [
      "<class 'set'>\n"
     ]
    }
   ],
   "source": [
    "list4 = set(list3)\n",
    "print(type(list4))\n",
    "\n",
    "# converted the list3 into list4 which is a set"
   ]
  },
  {
   "cell_type": "code",
   "execution_count": 28,
   "id": "bf31ae6b",
   "metadata": {},
   "outputs": [
    {
     "name": "stdout",
     "output_type": "stream",
     "text": [
      "{'python', 'SQL', 'ruby', 'javascript', 'JAVA'}\n"
     ]
    }
   ],
   "source": [
    "# converting the list of programming languages into sets\n",
    "prog_lang = set(programming_languages)\n",
    "\n",
    "print(prog_lang)"
   ]
  },
  {
   "cell_type": "code",
   "execution_count": 29,
   "id": "200acd88",
   "metadata": {},
   "outputs": [
    {
     "name": "stdout",
     "output_type": "stream",
     "text": [
      "True\n"
     ]
    }
   ],
   "source": [
    "print('SQL' in prog_lang)"
   ]
  },
  {
   "cell_type": "code",
   "execution_count": 33,
   "id": "3ab1edff",
   "metadata": {},
   "outputs": [
    {
     "data": {
      "text/plain": [
       "[1, 2, 3, 4, 5, 6]"
      ]
     },
     "execution_count": 33,
     "metadata": {},
     "output_type": "execute_result"
    }
   ],
   "source": [
    "# BASICS OF SETS\n",
    "\n",
    "# Create a function unique() which if you call on any list its returns back \n",
    "# all the unique values in that list and returns back a list of\n",
    "# unique values only\n",
    "\n",
    "list_common = [1,2,2,3,3,3,4,4,4,4,5,5,5,5,5,6,6,6,6,6,6]\n",
    "\n",
    "def unique(list_common):\n",
    "    list_unique = set(list_common)\n",
    "    return list(list_unique)\n",
    "\n",
    "unique(list_common)"
   ]
  },
  {
   "cell_type": "code",
   "execution_count": 35,
   "id": "6f63179a",
   "metadata": {},
   "outputs": [],
   "source": [
    "unique = lambda list_common: list(set(list_common))\n",
    "\n",
    "# lambda function to define this unique funtion"
   ]
  },
  {
   "cell_type": "code",
   "execution_count": 4,
   "id": "f81d91e9",
   "metadata": {},
   "outputs": [
    {
     "name": "stdout",
     "output_type": "stream",
     "text": [
      "Fruit:  apple\n",
      "Fruit:  pear\n",
      "Fruit:  orange\n",
      "Fruit:  banana\n",
      "Fruit:  mango\n"
     ]
    }
   ],
   "source": [
    "### LOOPS ###\n",
    "\n",
    "fruits = ['apple', 'pear', 'orange', 'banana', 'mango']\n",
    "\n",
    "# now print each of the fruit from the above list one by one\n",
    "\n",
    "for fruit in fruits:\n",
    "    print('Fruit: ' , fruit)\n",
    "\n",
    "# fruit = one arbitary item in array fruits - now this for loop is doing a loop for each item in that list\n",
    "# for each item it finds in the list, it will follow up the action we have defined in the loop    \n",
    "\n"
   ]
  },
  {
   "cell_type": "code",
   "execution_count": 42,
   "id": "27733189",
   "metadata": {},
   "outputs": [
    {
     "data": {
      "text/plain": [
       "[(0, 'apple'), (1, 'pear'), (2, 'orange'), (3, 'banana'), (4, 'mango')]"
      ]
     },
     "execution_count": 42,
     "metadata": {},
     "output_type": "execute_result"
    }
   ],
   "source": [
    "## ENUMERATE () - it gives a key to each value of the list - gives a list of touples\n",
    "\n",
    "list(enumerate(fruits))"
   ]
  },
  {
   "cell_type": "code",
   "execution_count": 43,
   "id": "1f13bc8e",
   "metadata": {
    "scrolled": true
   },
   "outputs": [
    {
     "name": "stdout",
     "output_type": "stream",
     "text": [
      "fruit (0, 'apple')\n",
      "fruit (1, 'pear')\n",
      "fruit (2, 'orange')\n",
      "fruit (3, 'banana')\n",
      "fruit (4, 'mango')\n"
     ]
    }
   ],
   "source": [
    "for fruit in enumerate(fruits):\n",
    "    print('fruit', fruit)"
   ]
  },
  {
   "cell_type": "code",
   "execution_count": 2,
   "id": "bc882244",
   "metadata": {},
   "outputs": [
    {
     "name": "stdout",
     "output_type": "stream",
     "text": [
      "1\n",
      "2\n",
      "3\n",
      "4\n",
      "5\n"
     ]
    }
   ],
   "source": [
    "# number of times this loop will run is equal to the number of items in the list\n",
    "\n",
    "for i in [1,2,3,4,5]:\n",
    "    print(i)"
   ]
  },
  {
   "cell_type": "code",
   "execution_count": 3,
   "id": "537b25b4",
   "metadata": {},
   "outputs": [
    {
     "name": "stdout",
     "output_type": "stream",
     "text": [
      "0\n",
      "1\n",
      "2\n",
      "3\n",
      "4\n"
     ]
    }
   ],
   "source": [
    "for i in range(5):\n",
    "    print(i)"
   ]
  },
  {
   "cell_type": "code",
   "execution_count": 6,
   "id": "073f8342",
   "metadata": {},
   "outputs": [
    {
     "name": "stdout",
     "output_type": "stream",
     "text": [
      "['apple', 'pear', 'orange', 'banana', 'mango', 'Kiwi', 'Kiwi', 'Kiwi', 'Kiwi', 'Kiwi', 'Kiwi', 'Kiwi', 'Kiwi', 'Kiwi', 'Kiwi', 'Kiwi']\n",
      "['apple', 'pear', 'orange', 'banana', 'mango', 'Kiwi', 'Kiwi', 'Kiwi', 'Kiwi', 'Kiwi', 'Kiwi', 'Kiwi', 'Kiwi', 'Kiwi', 'Kiwi', 'Kiwi', 'Kiwi']\n",
      "['apple', 'pear', 'orange', 'banana', 'mango', 'Kiwi', 'Kiwi', 'Kiwi', 'Kiwi', 'Kiwi', 'Kiwi', 'Kiwi', 'Kiwi', 'Kiwi', 'Kiwi', 'Kiwi', 'Kiwi', 'Kiwi']\n",
      "['apple', 'pear', 'orange', 'banana', 'mango', 'Kiwi', 'Kiwi', 'Kiwi', 'Kiwi', 'Kiwi', 'Kiwi', 'Kiwi', 'Kiwi', 'Kiwi', 'Kiwi', 'Kiwi', 'Kiwi', 'Kiwi', 'Kiwi']\n",
      "['apple', 'pear', 'orange', 'banana', 'mango', 'Kiwi', 'Kiwi', 'Kiwi', 'Kiwi', 'Kiwi', 'Kiwi', 'Kiwi', 'Kiwi', 'Kiwi', 'Kiwi', 'Kiwi', 'Kiwi', 'Kiwi', 'Kiwi', 'Kiwi']\n",
      "['apple', 'pear', 'orange', 'banana', 'mango', 'Kiwi', 'Kiwi', 'Kiwi', 'Kiwi', 'Kiwi', 'Kiwi', 'Kiwi', 'Kiwi', 'Kiwi', 'Kiwi', 'Kiwi', 'Kiwi', 'Kiwi', 'Kiwi', 'Kiwi', 'Kiwi']\n",
      "['apple', 'pear', 'orange', 'banana', 'mango', 'Kiwi', 'Kiwi', 'Kiwi', 'Kiwi', 'Kiwi', 'Kiwi', 'Kiwi', 'Kiwi', 'Kiwi', 'Kiwi', 'Kiwi', 'Kiwi', 'Kiwi', 'Kiwi', 'Kiwi', 'Kiwi', 'Kiwi']\n",
      "['apple', 'pear', 'orange', 'banana', 'mango', 'Kiwi', 'Kiwi', 'Kiwi', 'Kiwi', 'Kiwi', 'Kiwi', 'Kiwi', 'Kiwi', 'Kiwi', 'Kiwi', 'Kiwi', 'Kiwi', 'Kiwi', 'Kiwi', 'Kiwi', 'Kiwi', 'Kiwi', 'Kiwi']\n",
      "['apple', 'pear', 'orange', 'banana', 'mango', 'Kiwi', 'Kiwi', 'Kiwi', 'Kiwi', 'Kiwi', 'Kiwi', 'Kiwi', 'Kiwi', 'Kiwi', 'Kiwi', 'Kiwi', 'Kiwi', 'Kiwi', 'Kiwi', 'Kiwi', 'Kiwi', 'Kiwi', 'Kiwi', 'Kiwi']\n",
      "['apple', 'pear', 'orange', 'banana', 'mango', 'Kiwi', 'Kiwi', 'Kiwi', 'Kiwi', 'Kiwi', 'Kiwi', 'Kiwi', 'Kiwi', 'Kiwi', 'Kiwi', 'Kiwi', 'Kiwi', 'Kiwi', 'Kiwi', 'Kiwi', 'Kiwi', 'Kiwi', 'Kiwi', 'Kiwi', 'Kiwi']\n"
     ]
    }
   ],
   "source": [
    "for i in range(10):\n",
    "    fruits.append(\"Kiwi\")\n",
    "    print(fruits)\n",
    "    \n",
    "# this means that i = 1, 2, 3, ....and each time this will perform the function that is mentioned in the for loop"
   ]
  },
  {
   "cell_type": "code",
   "execution_count": 1,
   "id": "eb6f50ea",
   "metadata": {},
   "outputs": [
    {
     "data": {
      "text/plain": [
       "True"
      ]
     },
     "execution_count": 1,
     "metadata": {},
     "output_type": "execute_result"
    }
   ],
   "source": [
    "### WHILE Loops ###\n",
    "\n",
    "#With the while loop we can execute a set of statements as long as a condition is true.\n",
    "\n",
    "shobhit = 'sitting'\n",
    "\n",
    "shobhit == \"sitting\"\n"
   ]
  },
  {
   "cell_type": "code",
   "execution_count": null,
   "id": "61a1e2ab",
   "metadata": {},
   "outputs": [],
   "source": [
    "while shobhit ==\"sitting\":\n",
    "    print(\"Shobhit is working\")\n",
    "\n",
    "# since this is a True statement, while loop will keep running of ever\n",
    "# therefore we need a stop statement as well"
   ]
  },
  {
   "cell_type": "code",
   "execution_count": 4,
   "id": "7cfc6060",
   "metadata": {},
   "outputs": [
    {
     "name": "stdout",
     "output_type": "stream",
     "text": [
      "counter 0\n",
      "counter 1\n",
      "counter 2\n",
      "counter 3\n",
      "counter 4\n",
      "counter 5\n",
      "counter 6\n",
      "counter 7\n",
      "counter 8\n",
      "counter 9\n"
     ]
    }
   ],
   "source": [
    "# BREAK CONDITION TO END THE WHILE LOOP\n",
    "\n",
    "counter = 0\n",
    "\n",
    "while counter < 10:\n",
    "    print(\"counter\" , counter)\n",
    "    counter = counter + 1\n",
    "    # counter += 1\n",
    "\n",
    "# while loops make the code look untidy so not to be used much"
   ]
  },
  {
   "cell_type": "code",
   "execution_count": 1,
   "id": "3274796f",
   "metadata": {},
   "outputs": [
    {
     "name": "stdout",
     "output_type": "stream",
     "text": [
      "Test\n"
     ]
    }
   ],
   "source": [
    "print(\"Test\")"
   ]
  },
  {
   "cell_type": "code",
   "execution_count": 22,
   "id": "da68747b",
   "metadata": {},
   "outputs": [
    {
     "name": "stdout",
     "output_type": "stream",
     "text": [
      "[2, 4, 6, 8, 10]\n"
     ]
    }
   ],
   "source": [
    "'''\n",
    "Write a program to double the numbers present in the list\n",
    "'''\n",
    "numbers = [1, 2, 3, 4, 5]\n",
    "\n",
    "def double(numberslist: list) -> list:\n",
    "    result = []\n",
    "    for number in numbers:\n",
    "        result.append(number*2)\n",
    "    return(result)\n",
    "\n",
    "print(double(numbers))\n",
    "\n",
    "# This is a very important pattern\n",
    "\n",
    "# create an empty list\n",
    "# loop through $ append to that list\n",
    "# return that list"
   ]
  },
  {
   "cell_type": "code",
   "execution_count": 33,
   "id": "dda80f1c",
   "metadata": {},
   "outputs": [
    {
     "name": "stdout",
     "output_type": "stream",
     "text": [
      "5\n"
     ]
    }
   ],
   "source": [
    "'''\n",
    "Write a program to count the number of words in the given string\n",
    "'''\n",
    "\n",
    "def countWords(phrase: str) -> int:\n",
    "    words = phrase.split()\n",
    "    print(len(words))\n",
    "    \n",
    "countWords(\"Hi my name is Shobhit\")\n",
    "\n",
    "# we have used .split() method\n",
    "# Split a string into a list where each word is a list item"
   ]
  },
  {
   "cell_type": "code",
   "execution_count": 2,
   "id": "408d54f9",
   "metadata": {},
   "outputs": [
    {
     "name": "stdout",
     "output_type": "stream",
     "text": [
      "6\n"
     ]
    }
   ],
   "source": [
    "def wordcount(statement: str) -> int:\n",
    "    words = statement.split()\n",
    "    print(len(words))\n",
    "    \n",
    "wordcount(\"I am just angry at Tanmay\")"
   ]
  },
  {
   "cell_type": "code",
   "execution_count": 8,
   "id": "67c6d6ee",
   "metadata": {},
   "outputs": [
    {
     "name": "stdout",
     "output_type": "stream",
     "text": [
      "15\n"
     ]
    }
   ],
   "source": [
    "'''\n",
    "Create a function that given a list of numbers can return their sum\n",
    ">>> sum_list([1,2,3,4])\n",
    "'''\n",
    "\n",
    "def sum_list(numbers):\n",
    "    count = 0\n",
    "    for number in numbers:\n",
    "        count += number\n",
    "    return count\n",
    "    \n",
    "print(sum_list([1,2,3,4,5]))\n",
    "\n",
    "# for every such program we should defin a function that is going to play the desired operation\n",
    "# here also we first declared a variable - count = 0\n",
    "# += means current number + next number"
   ]
  },
  {
   "cell_type": "code",
   "execution_count": 13,
   "id": "159de198",
   "metadata": {},
   "outputs": [
    {
     "data": {
      "text/plain": [
       "10"
      ]
     },
     "execution_count": 13,
     "metadata": {},
     "output_type": "execute_result"
    }
   ],
   "source": [
    "# find_max\n",
    "'''\n",
    ">>> find_max([1,2,5,10,3])\n",
    "10\n",
    "'''\n",
    "\n",
    "def find_max(numbers):\n",
    "    current_max = numbers[0]\n",
    "\n",
    "# PSEUDO CODE\n",
    "\n",
    "# is 1 > current_max ? No\n",
    "# is 5 > current_max ? Yes then current_max = 5\n",
    "# is 10 > current_max ? Yes then current_max = 10\n",
    "# is 3 > current_max ? No \n",
    "# end the loop\n",
    "\n",
    "    for number in numbers:\n",
    "        if number > current_max:\n",
    "            current_max = number\n",
    "        \n",
    "    return current_max\n",
    "\n",
    "find_max([1,2,5,10,3])"
   ]
  },
  {
   "cell_type": "code",
   "execution_count": 8,
   "id": "0815be2f",
   "metadata": {},
   "outputs": [
    {
     "name": "stdout",
     "output_type": "stream",
     "text": [
      "{'I': 2, 'love': 1, 'Batman': 2, 'because': 1, 'am': 1}\n"
     ]
    }
   ],
   "source": [
    "### DICTIONARY PRACTICE \n",
    "\n",
    "'''\n",
    ">>> word_frequency{'I love Batman because I am Batman'}\n",
    "\n",
    "{'I': 2, 'love': 1, 'Batman': 2, 'am': 1}\n",
    "'''\n",
    "\n",
    "def word_frequency(phrase):\n",
    "    result = {}\n",
    "    words = phrase.split()\n",
    "    \n",
    "    for word in words:\n",
    "        if word not in result:\n",
    "            result[word] = 1\n",
    "        else:\n",
    "            result[word] += 1\n",
    "    return result\n",
    "\n",
    "# we will turn this into a list as you cannot do much in a dictionary\n",
    "\n",
    "print(word_frequency('I love Batman because I am Batman'))\n",
    "\n",
    "# Dictionary only has unique keys\n",
    "\n",
    "# LOOP 1\n",
    "#is I in result? NO then\n",
    "# create a new key value pair \n",
    "# set the key to 'I' and value to 1\n",
    "\n",
    "# LOOP 2\n",
    "# is 'love' in result? No\n",
    "# set the key to 'love' and value to 1\n",
    "\n",
    "# LOOP 3\n",
    "# is 'Batman' in result? No\n",
    "# set the key to 'Batman' and value to 1\n",
    "\n",
    "# LOOP 4\n",
    "# is 'because' in result? No\n",
    "# set the key to 'because' and value to 1\n",
    "\n",
    "# LOOP 5\n",
    "# is 'I' in result? Yes\n",
    "# increment the value of 'I' key by 1\n",
    "\n",
    "# LOOP 6\n",
    "# is 'am' in result? No\n",
    "# set the key to 'am' and value to 1\n",
    "\n",
    "# LOOP 7\n",
    "# is 'Batman' in result? Yes\n",
    "# increment the value of 'Batman' key by 1\n",
    "\n",
    "\n"
   ]
  },
  {
   "cell_type": "code",
   "execution_count": null,
   "id": "6a98ff8d",
   "metadata": {},
   "outputs": [],
   "source": [
    "print(word_frequency(input('Please enter your phrase - ')))"
   ]
  },
  {
   "cell_type": "code",
   "execution_count": 4,
   "id": "82d36420",
   "metadata": {},
   "outputs": [
    {
     "name": "stdout",
     "output_type": "stream",
     "text": [
      "[2, 4, 6]\n",
      "[1, 4, 9]\n"
     ]
    }
   ],
   "source": [
    "### HIGHER ORDER FUNCTIONS ###\n",
    "\n",
    "# maps\n",
    "# filter\n",
    "\n",
    "''' \n",
    ">>> double([1,2,3])\n",
    "[2,4,6]\n",
    "'''\n",
    "\n",
    "# maps is a function which can take a function as an input\n",
    "# map() takes two inputs - function and an iterable object\n",
    "\n",
    "def double_number(number):\n",
    "    return number * 2\n",
    "\n",
    "print(list(map(double_number,[1,2,3])))\n",
    "\n",
    "print(list(map(lambda num: num ** 2,[1 ,2, 3])))"
   ]
  },
  {
   "cell_type": "code",
   "execution_count": 16,
   "id": "3ea690bb",
   "metadata": {},
   "outputs": [
    {
     "name": "stdout",
     "output_type": "stream",
     "text": [
      "[2, 4, 6, 8, 10]\n"
     ]
    }
   ],
   "source": [
    "## Filter ##\n",
    "\n",
    "# filter() method  \n",
    "\n",
    "numbers = [1, 2, 3, 4, 5, 6, 7, 8, 9, 10]\n",
    "\n",
    "print(list(filter(lambda number: number % 2 == 0, numbers)))\n"
   ]
  },
  {
   "cell_type": "code",
   "execution_count": 18,
   "id": "d652b66f",
   "metadata": {},
   "outputs": [
    {
     "name": "stdout",
     "output_type": "stream",
     "text": [
      "[2, 4, 6, 8, 10]\n"
     ]
    }
   ],
   "source": [
    "def even_numbers(list_numbers):\n",
    "    even_list = []\n",
    "    \n",
    "    for number in list_numbers:\n",
    "        if number % 2 == 0:\n",
    "            even_list.append(number)\n",
    "    \n",
    "    return even_list\n",
    "\n",
    "print(even_numbers([1, 2, 3, 4, 5, 6, 7, 8, 9, 10]))"
   ]
  },
  {
   "cell_type": "code",
   "execution_count": 26,
   "id": "a0055a9d",
   "metadata": {},
   "outputs": [
    {
     "name": "stdout",
     "output_type": "stream",
     "text": [
      "[2, 4, 6, 8, 10]\n",
      "[2, 4, 6, 8, 10, 12, 14, 16, 18, 20]\n",
      "[1, 3, 5, 7, 9]\n",
      "[1, 27, 125, 343, 729]\n"
     ]
    }
   ],
   "source": [
    "### LIST COMPREHENSION ###\n",
    "\n",
    "numbers = [1, 2, 3, 4, 5, 6, 7, 8, 9, 10]\n",
    "\n",
    "print([number for number in numbers if number % 2 == 0])\n",
    "\n",
    "print([number * 2 for number in numbers])\n",
    "\n",
    "print([number for number in numbers if number % 2 != 0])\n",
    "\n",
    "print([number ** 3 for number in numbers if number % 2 != 0])"
   ]
  }
 ],
 "metadata": {
  "kernelspec": {
   "display_name": "Python 3",
   "language": "python",
   "name": "python3"
  },
  "language_info": {
   "codemirror_mode": {
    "name": "ipython",
    "version": 3
   },
   "file_extension": ".py",
   "mimetype": "text/x-python",
   "name": "python",
   "nbconvert_exporter": "python",
   "pygments_lexer": "ipython3",
   "version": "3.8.8"
  }
 },
 "nbformat": 4,
 "nbformat_minor": 5
}
